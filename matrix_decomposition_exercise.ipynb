{
 "cells": [
  {
   "cell_type": "markdown",
   "metadata": {},
   "source": [
    "## Matrix Decomposition Exercise"
   ]
  },
  {
   "cell_type": "code",
   "execution_count": 8,
   "metadata": {
    "ExecuteTime": {
     "end_time": "2020-01-30T08:49:15.705544Z",
     "start_time": "2020-01-30T08:49:15.691050Z"
    }
   },
   "outputs": [],
   "source": [
    "# import numpy\n",
    "import numpy as np\n",
    "from scipy.linalg import svd"
   ]
  },
  {
   "cell_type": "markdown",
   "metadata": {
    "ExecuteTime": {
     "end_time": "2020-01-30T08:49:16.033687Z",
     "start_time": "2020-01-30T08:49:16.022845Z"
    }
   },
   "source": [
    "**Task:** Generate a random matrix 'A' with a shape of 150x50, using the '**np.random.rand**' function."
   ]
  },
  {
   "cell_type": "code",
   "execution_count": 9,
   "metadata": {},
   "outputs": [],
   "source": [
    "A = np.random.rand(150, 150)"
   ]
  },
  {
   "cell_type": "code",
   "execution_count": 24,
   "metadata": {},
   "outputs": [
    {
     "data": {
      "text/plain": [
       "array([[0.67238516, 0.34019342, 0.56849991, ..., 0.47642977, 0.66930834,\n",
       "        0.68199162],\n",
       "       [0.53436343, 0.79725   , 0.81800647, ..., 0.04355175, 0.08930799,\n",
       "        0.4277831 ],\n",
       "       [0.57293224, 0.32171419, 0.79964427, ..., 0.61174241, 0.23286016,\n",
       "        0.67265271],\n",
       "       ...,\n",
       "       [0.09083959, 0.82063357, 0.03186624, ..., 0.08837759, 0.08149482,\n",
       "        0.09598892],\n",
       "       [0.57695524, 0.09488989, 0.17515381, ..., 0.53885918, 0.14719238,\n",
       "        0.34311798],\n",
       "       [0.44146145, 0.64090681, 0.39936485, ..., 0.877015  , 0.58697767,\n",
       "        0.29145001]])"
      ]
     },
     "execution_count": 24,
     "metadata": {},
     "output_type": "execute_result"
    }
   ],
   "source": [
    "A"
   ]
  },
  {
   "cell_type": "markdown",
   "metadata": {
    "ExecuteTime": {
     "end_time": "2020-01-30T08:49:16.306858Z",
     "start_time": "2020-01-30T08:49:16.291806Z"
    }
   },
   "source": [
    "**Task:** Check the shape of 'A'."
   ]
  },
  {
   "cell_type": "code",
   "execution_count": 10,
   "metadata": {},
   "outputs": [
    {
     "data": {
      "text/plain": [
       "(150, 150)"
      ]
     },
     "execution_count": 10,
     "metadata": {},
     "output_type": "execute_result"
    }
   ],
   "source": [
    "A.shape"
   ]
  },
  {
   "cell_type": "code",
   "execution_count": null,
   "metadata": {},
   "outputs": [],
   "source": []
  },
  {
   "cell_type": "markdown",
   "metadata": {
    "ExecuteTime": {
     "end_time": "2020-01-30T08:49:16.700850Z",
     "start_time": "2020-01-30T08:49:16.658980Z"
    }
   },
   "source": [
    "**Task:** Decompose matrix 'A' with SVD using numpy (decompose into matrices U,D,V)."
   ]
  },
  {
   "cell_type": "code",
   "execution_count": 16,
   "metadata": {},
   "outputs": [],
   "source": [
    "# Decompose A into SVD\n",
    "U,D,V = svd(A)"
   ]
  },
  {
   "cell_type": "code",
   "execution_count": 25,
   "metadata": {},
   "outputs": [
    {
     "name": "stdout",
     "output_type": "stream",
     "text": [
      "[[-0.08000655 -0.04571997 -0.15129436 ...  0.1025667  -0.09120851\n",
      "   0.04928427]\n",
      " [-0.08124053  0.15273316  0.01127069 ...  0.0887843   0.00712266\n",
      "   0.05065449]\n",
      " [-0.08021976  0.10563096  0.07683107 ...  0.00493773 -0.17292001\n",
      "   0.15318564]\n",
      " ...\n",
      " [-0.07988178 -0.01785276  0.01352068 ...  0.02822864 -0.05744083\n",
      "  -0.02875244]\n",
      " [-0.07568383 -0.03204137  0.02237159 ... -0.05287157 -0.02279143\n",
      "   0.07929578]\n",
      " [-0.08558327 -0.02369845 -0.02849415 ... -0.06246199  0.0709627\n",
      "   0.08820198]]\n",
      "[7.52653389e+01 6.84047702e+00 6.60180565e+00 6.53757279e+00\n",
      " 6.43360903e+00 6.39831720e+00 6.32319827e+00 6.30417666e+00\n",
      " 6.18970041e+00 6.05347186e+00 5.98481124e+00 5.95975418e+00\n",
      " 5.92791955e+00 5.88876509e+00 5.80350582e+00 5.75092538e+00\n",
      " 5.60651602e+00 5.55207710e+00 5.42016600e+00 5.39675547e+00\n",
      " 5.32713325e+00 5.27440192e+00 5.24434359e+00 5.15266438e+00\n",
      " 5.11481372e+00 5.06914719e+00 4.98344243e+00 4.91470976e+00\n",
      " 4.90435711e+00 4.89609911e+00 4.83321576e+00 4.76761064e+00\n",
      " 4.70457293e+00 4.64094712e+00 4.60516656e+00 4.53339952e+00\n",
      " 4.52511436e+00 4.46987594e+00 4.44332026e+00 4.38732113e+00\n",
      " 4.33530719e+00 4.31534624e+00 4.27654758e+00 4.25059673e+00\n",
      " 4.19274959e+00 4.17309711e+00 4.04940365e+00 4.01620237e+00\n",
      " 3.99876691e+00 3.91865874e+00 3.89214969e+00 3.85069546e+00\n",
      " 3.80914477e+00 3.79148735e+00 3.76931183e+00 3.71472412e+00\n",
      " 3.70354110e+00 3.67654999e+00 3.58265848e+00 3.56417841e+00\n",
      " 3.51527168e+00 3.47376342e+00 3.41140063e+00 3.38996261e+00\n",
      " 3.33045879e+00 3.29168386e+00 3.25908012e+00 3.24506109e+00\n",
      " 3.16281820e+00 3.14418264e+00 3.09331763e+00 3.06524649e+00\n",
      " 2.99112958e+00 2.95655689e+00 2.93470888e+00 2.86540916e+00\n",
      " 2.84537595e+00 2.75229598e+00 2.72737221e+00 2.69331351e+00\n",
      " 2.66824425e+00 2.63719660e+00 2.58470171e+00 2.54729113e+00\n",
      " 2.53175779e+00 2.48020360e+00 2.43683074e+00 2.37604660e+00\n",
      " 2.34492274e+00 2.30650121e+00 2.23949243e+00 2.20240592e+00\n",
      " 2.15689563e+00 2.07384458e+00 2.06668547e+00 2.04567900e+00\n",
      " 2.03592938e+00 1.94427335e+00 1.91504424e+00 1.85251615e+00\n",
      " 1.83503514e+00 1.80869340e+00 1.77604263e+00 1.76598935e+00\n",
      " 1.71172146e+00 1.63248966e+00 1.60973876e+00 1.53542374e+00\n",
      " 1.45303109e+00 1.43226898e+00 1.40645336e+00 1.38377126e+00\n",
      " 1.37373050e+00 1.34799705e+00 1.31477391e+00 1.31116077e+00\n",
      " 1.24400813e+00 1.20370625e+00 1.14667974e+00 1.12589679e+00\n",
      " 1.08674310e+00 1.05662126e+00 9.84222447e-01 9.41987785e-01\n",
      " 9.05682805e-01 8.79707087e-01 8.70894457e-01 8.14244162e-01\n",
      " 7.68713243e-01 7.32300751e-01 7.00761144e-01 6.64929130e-01\n",
      " 6.22818346e-01 5.99933001e-01 5.71201652e-01 5.52559413e-01\n",
      " 5.08660334e-01 4.22158387e-01 3.74706242e-01 3.61506463e-01\n",
      " 3.26133264e-01 2.69908619e-01 2.40551119e-01 2.26537222e-01\n",
      " 1.97989630e-01 1.53811248e-01 1.36666134e-01 6.89264184e-02\n",
      " 1.22367594e-02 4.80173262e-03]\n",
      "[[-0.08480389 -0.08111618 -0.07991644 ... -0.08207861 -0.08160676\n",
      "  -0.0761146 ]\n",
      " [-0.16702613 -0.04417987  0.01280209 ...  0.01838051 -0.00278735\n",
      "  -0.11474368]\n",
      " [ 0.0734746  -0.0032339   0.03350003 ...  0.01566529  0.05772775\n",
      "  -0.06691389]\n",
      " ...\n",
      " [ 0.1608585   0.00738158  0.05012889 ... -0.06283348  0.06579211\n",
      "  -0.06046547]\n",
      " [ 0.04072026 -0.09881737 -0.00787899 ... -0.08521709 -0.01230529\n",
      "   0.06481152]\n",
      " [ 0.00567451  0.03448009 -0.10542151 ... -0.05835544 -0.06531949\n",
      "  -0.18429899]]\n"
     ]
    }
   ],
   "source": [
    "print(U)\n",
    "print(D)\n",
    "print(V)"
   ]
  },
  {
   "cell_type": "markdown",
   "metadata": {
    "ExecuteTime": {
     "end_time": "2020-01-30T08:49:17.007803Z",
     "start_time": "2020-01-30T08:49:17.000154Z"
    }
   },
   "source": [
    "**Task:** Check the shapes of matrices U,D,V."
   ]
  },
  {
   "cell_type": "code",
   "execution_count": 13,
   "metadata": {},
   "outputs": [
    {
     "data": {
      "text/plain": [
       "(150, 150)"
      ]
     },
     "execution_count": 13,
     "metadata": {},
     "output_type": "execute_result"
    }
   ],
   "source": [
    "U.shape"
   ]
  },
  {
   "cell_type": "code",
   "execution_count": 14,
   "metadata": {},
   "outputs": [
    {
     "data": {
      "text/plain": [
       "(150,)"
      ]
     },
     "execution_count": 14,
     "metadata": {},
     "output_type": "execute_result"
    }
   ],
   "source": [
    "D.shape"
   ]
  },
  {
   "cell_type": "code",
   "execution_count": 15,
   "metadata": {},
   "outputs": [
    {
     "data": {
      "text/plain": [
       "(150, 150)"
      ]
     },
     "execution_count": 15,
     "metadata": {},
     "output_type": "execute_result"
    }
   ],
   "source": [
    "V.shape"
   ]
  },
  {
   "cell_type": "markdown",
   "metadata": {
    "ExecuteTime": {
     "end_time": "2020-01-30T08:49:17.380307Z",
     "start_time": "2020-01-30T08:49:17.364171Z"
    }
   },
   "source": [
    "**Task:** Reconstruct matrix 'A' from matrices U,D,V."
   ]
  },
  {
   "cell_type": "code",
   "execution_count": 31,
   "metadata": {},
   "outputs": [],
   "source": [
    "# Reconstruct A from SVD\n",
    "Vt = V.transpose()\n",
    "A_rec = U.dot(D).dot(Vt)"
   ]
  },
  {
   "cell_type": "code",
   "execution_count": null,
   "metadata": {},
   "outputs": [],
   "source": []
  },
  {
   "cell_type": "markdown",
   "metadata": {
    "ExecuteTime": {
     "end_time": "2020-01-30T08:49:17.782966Z",
     "start_time": "2020-01-30T08:49:17.775093Z"
    }
   },
   "source": [
    "**Task:** Compare matrices 'A' and 'A_rec' with the [**np.allclose**](https://numpy.org/doc/stable/reference/generated/numpy.allclose.html) function."
   ]
  },
  {
   "cell_type": "code",
   "execution_count": 32,
   "metadata": {},
   "outputs": [
    {
     "data": {
      "text/plain": [
       "False"
      ]
     },
     "execution_count": 32,
     "metadata": {},
     "output_type": "execute_result"
    }
   ],
   "source": [
    "np.allclose(A, A_rec)"
   ]
  },
  {
   "cell_type": "code",
   "execution_count": null,
   "metadata": {},
   "outputs": [],
   "source": []
  },
  {
   "cell_type": "markdown",
   "metadata": {
    "ExecuteTime": {
     "end_time": "2020-01-30T08:49:18.170344Z",
     "start_time": "2020-01-30T08:49:18.164685Z"
    }
   },
   "source": [
    "**Task:** Reduce the dimnesion of matrix 'A' to shape 150x20 with SVD (try both equations)."
   ]
  },
  {
   "cell_type": "code",
   "execution_count": null,
   "metadata": {},
   "outputs": [],
   "source": []
  },
  {
   "cell_type": "code",
   "execution_count": null,
   "metadata": {},
   "outputs": [],
   "source": []
  },
  {
   "cell_type": "markdown",
   "metadata": {
    "ExecuteTime": {
     "end_time": "2020-01-30T08:49:18.526337Z",
     "start_time": "2020-01-30T08:49:18.519511Z"
    }
   },
   "source": [
    "**Task:** Print the shape."
   ]
  },
  {
   "cell_type": "code",
   "execution_count": null,
   "metadata": {},
   "outputs": [],
   "source": []
  },
  {
   "cell_type": "code",
   "execution_count": null,
   "metadata": {},
   "outputs": [],
   "source": []
  },
  {
   "cell_type": "markdown",
   "metadata": {
    "ExecuteTime": {
     "end_time": "2020-01-30T08:49:18.858261Z",
     "start_time": "2020-01-30T08:49:18.850912Z"
    }
   },
   "source": [
    "**Task:** Compare the two results with the [**np.allclose**](https://numpy.org/doc/stable/reference/generated/numpy.allclose.html) function."
   ]
  },
  {
   "cell_type": "code",
   "execution_count": null,
   "metadata": {},
   "outputs": [],
   "source": []
  },
  {
   "cell_type": "code",
   "execution_count": null,
   "metadata": {},
   "outputs": [],
   "source": []
  },
  {
   "cell_type": "markdown",
   "metadata": {
    "ExecuteTime": {
     "end_time": "2020-01-30T08:49:19.245461Z",
     "start_time": "2020-01-30T08:49:19.237681Z"
    }
   },
   "source": [
    "**Task:** Filter the noise from matrix 'A' with 20 largest singular vectors (keep the shape of (150x50))."
   ]
  },
  {
   "cell_type": "code",
   "execution_count": null,
   "metadata": {},
   "outputs": [],
   "source": []
  },
  {
   "cell_type": "code",
   "execution_count": null,
   "metadata": {},
   "outputs": [],
   "source": []
  },
  {
   "cell_type": "markdown",
   "metadata": {
    "ExecuteTime": {
     "end_time": "2020-01-30T08:49:19.787237Z",
     "start_time": "2020-01-30T08:49:19.775025Z"
    }
   },
   "source": [
    "**Task:** Check the shape."
   ]
  },
  {
   "cell_type": "code",
   "execution_count": null,
   "metadata": {},
   "outputs": [],
   "source": []
  },
  {
   "cell_type": "code",
   "execution_count": null,
   "metadata": {},
   "outputs": [],
   "source": []
  },
  {
   "cell_type": "markdown",
   "metadata": {},
   "source": [
    "**Task:** Define the function `'SVD'` which perform singular values decomposition.\n",
    "\n",
    "Do not forget to check the shape of the input matrix."
   ]
  },
  {
   "cell_type": "code",
   "execution_count": null,
   "metadata": {
    "ExecuteTime": {
     "end_time": "2020-01-30T08:49:20.344770Z",
     "start_time": "2020-01-30T08:49:20.326781Z"
    }
   },
   "outputs": [],
   "source": [
    "\"\"\"\n",
    "PARAMS:\n",
    "    A (numpy.ndarray) - matrix to decompose\n",
    "RETURN:\n",
    "    U (numpy.ndarray) - left singular vectors\n",
    "    SV (numpy.ndarray) - singular values\n",
    "    V (numpy.ndarray) - right singular vectors\n",
    "\"\"\""
   ]
  },
  {
   "cell_type": "code",
   "execution_count": null,
   "metadata": {},
   "outputs": [],
   "source": []
  },
  {
   "cell_type": "markdown",
   "metadata": {
    "ExecuteTime": {
     "end_time": "2020-01-30T08:49:20.693579Z",
     "start_time": "2020-01-30T08:49:20.660972Z"
    }
   },
   "source": [
    "**Task:** Call the function `'SVD'` on matrix 'A'."
   ]
  },
  {
   "cell_type": "code",
   "execution_count": null,
   "metadata": {},
   "outputs": [],
   "source": []
  },
  {
   "cell_type": "code",
   "execution_count": null,
   "metadata": {},
   "outputs": [],
   "source": []
  }
 ],
 "metadata": {
  "kernelspec": {
   "display_name": "Python 3",
   "language": "python",
   "name": "python3"
  },
  "language_info": {
   "codemirror_mode": {
    "name": "ipython",
    "version": 3
   },
   "file_extension": ".py",
   "mimetype": "text/x-python",
   "name": "python",
   "nbconvert_exporter": "python",
   "pygments_lexer": "ipython3",
   "version": "3.8.8"
  },
  "toc": {
   "base_numbering": 1,
   "nav_menu": {},
   "number_sections": true,
   "sideBar": true,
   "skip_h1_title": false,
   "title_cell": "Table of Contents",
   "title_sidebar": "Contents",
   "toc_cell": false,
   "toc_position": {},
   "toc_section_display": true,
   "toc_window_display": false
  },
  "varInspector": {
   "cols": {
    "lenName": 16,
    "lenType": 16,
    "lenVar": 40
   },
   "kernels_config": {
    "python": {
     "delete_cmd_postfix": "",
     "delete_cmd_prefix": "del ",
     "library": "var_list.py",
     "varRefreshCmd": "print(var_dic_list())"
    },
    "r": {
     "delete_cmd_postfix": ") ",
     "delete_cmd_prefix": "rm(",
     "library": "var_list.r",
     "varRefreshCmd": "cat(var_dic_list()) "
    }
   },
   "types_to_exclude": [
    "module",
    "function",
    "builtin_function_or_method",
    "instance",
    "_Feature"
   ],
   "window_display": false
  }
 },
 "nbformat": 4,
 "nbformat_minor": 4
}
