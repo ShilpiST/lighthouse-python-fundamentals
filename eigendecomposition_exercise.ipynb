{
 "cells": [
  {
   "cell_type": "markdown",
   "metadata": {},
   "source": [
    "## eigendecomposition exercise"
   ]
  },
  {
   "cell_type": "code",
   "execution_count": 1,
   "metadata": {
    "ExecuteTime": {
     "end_time": "2020-01-30T08:49:32.277001Z",
     "start_time": "2020-01-30T08:49:32.273265Z"
    }
   },
   "outputs": [],
   "source": [
    "# import numpy\n",
    "import numpy as np"
   ]
  },
  {
   "cell_type": "markdown",
   "metadata": {
    "ExecuteTime": {
     "end_time": "2020-01-30T08:49:32.705250Z",
     "start_time": "2020-01-30T08:49:32.690350Z"
    }
   },
   "source": [
    "**Task:** Create a matrix (2x2) called matrix 'A'.\n"
   ]
  },
  {
   "cell_type": "code",
   "execution_count": 22,
   "metadata": {},
   "outputs": [],
   "source": [
    "M = np.arange(1,10).reshape(3,3)"
   ]
  },
  {
   "cell_type": "code",
   "execution_count": 23,
   "metadata": {},
   "outputs": [
    {
     "data": {
      "text/plain": [
       "array([[1, 2, 3],\n",
       "       [4, 5, 6],\n",
       "       [7, 8, 9]])"
      ]
     },
     "execution_count": 23,
     "metadata": {},
     "output_type": "execute_result"
    }
   ],
   "source": [
    "M"
   ]
  },
  {
   "cell_type": "code",
   "execution_count": 61,
   "metadata": {},
   "outputs": [
    {
     "data": {
      "text/plain": [
       "array([[1, 2],\n",
       "       [3, 4]])"
      ]
     },
     "execution_count": 61,
     "metadata": {},
     "output_type": "execute_result"
    }
   ],
   "source": [
    "A = np.arange(1,5).reshape(2,2)\n",
    "A"
   ]
  },
  {
   "cell_type": "markdown",
   "metadata": {},
   "source": [
    "**Task:** Define the function `'shape_2x2'` which checks if a matrix has a (2x2) shape."
   ]
  },
  {
   "cell_type": "code",
   "execution_count": 25,
   "metadata": {
    "ExecuteTime": {
     "end_time": "2020-01-30T08:49:33.010790Z",
     "start_time": "2020-01-30T08:49:33.001874Z"
    }
   },
   "outputs": [
    {
     "data": {
      "text/plain": [
       "\"\\nDefine the function 'shape_2x2' which checks if a matrix has a (2x2) shape.\\n\\nPARAMS:\\n    matrix (numpy.ndarray) - matrix to check\\nRETURN:\\n    True (bool) - if matrix has shape 2x2\\n    False (bool) - if matrix has not shape 2x2\\n\\n\""
      ]
     },
     "execution_count": 25,
     "metadata": {},
     "output_type": "execute_result"
    }
   ],
   "source": [
    "\"\"\"\n",
    "Define the function 'shape_2x2' which checks if a matrix has a (2x2) shape.\n",
    "\n",
    "PARAMS:\n",
    "    matrix (numpy.ndarray) - matrix to check\n",
    "RETURN:\n",
    "    True (bool) - if matrix has shape 2x2\n",
    "    False (bool) - if matrix has not shape 2x2\n",
    "\n",
    "\"\"\"\n"
   ]
  },
  {
   "cell_type": "code",
   "execution_count": 26,
   "metadata": {},
   "outputs": [],
   "source": [
    "def shape_2x2(matrix):\n",
    "    rows = len(matrix)\n",
    "    columns = len(matrix[0])\n",
    "    if rows == columns:\n",
    "        if rows == 2:\n",
    "            return True\n",
    "        else:\n",
    "            return False\n",
    "    else:\n",
    "        return False"
   ]
  },
  {
   "cell_type": "code",
   "execution_count": 62,
   "metadata": {},
   "outputs": [
    {
     "data": {
      "text/plain": [
       "True"
      ]
     },
     "execution_count": 62,
     "metadata": {},
     "output_type": "execute_result"
    }
   ],
   "source": [
    "shape_2x2(A)"
   ]
  },
  {
   "cell_type": "markdown",
   "metadata": {},
   "source": [
    "**Task:** Define the function `'determinant_2x2'` which computes the determinant of a (2x2) matrix.\n",
    "\n",
    "Do not forget to check the shape of  the input matrix."
   ]
  },
  {
   "cell_type": "code",
   "execution_count": null,
   "metadata": {
    "ExecuteTime": {
     "end_time": "2020-01-30T08:49:33.337444Z",
     "start_time": "2020-01-30T08:49:33.329488Z"
    }
   },
   "outputs": [],
   "source": [
    "\"\"\"\n",
    "Define the function 'determinant_2x2' which computes the determinant of a (2x2) matrix.\n",
    "\n",
    "PARAMS:\n",
    "    matrix (numpy.ndarray) - matrix to compute determinant\n",
    "RETURN:\n",
    "    det (float) - matrix determinant\n",
    "\n",
    "\"\"\"\n"
   ]
  },
  {
   "cell_type": "code",
   "execution_count": 63,
   "metadata": {},
   "outputs": [],
   "source": [
    "def determinant_2x2(matrix):\n",
    "    if shape_2x2(matrix) == True:\n",
    "        return np.linalg.det(matrix)\n",
    "    else:\n",
    "        pass"
   ]
  },
  {
   "cell_type": "code",
   "execution_count": null,
   "metadata": {},
   "outputs": [],
   "source": []
  },
  {
   "cell_type": "markdown",
   "metadata": {
    "ExecuteTime": {
     "end_time": "2020-01-30T08:49:33.653982Z",
     "start_time": "2020-01-30T08:49:33.640536Z"
    }
   },
   "source": [
    "**Task:** Call the function `'determinant_2x2'` on matrix 'A'."
   ]
  },
  {
   "cell_type": "code",
   "execution_count": 34,
   "metadata": {},
   "outputs": [
    {
     "data": {
      "text/plain": [
       "-2.0000000000000004"
      ]
     },
     "execution_count": 34,
     "metadata": {},
     "output_type": "execute_result"
    }
   ],
   "source": [
    "determinant_2x2(A)"
   ]
  },
  {
   "cell_type": "code",
   "execution_count": null,
   "metadata": {},
   "outputs": [],
   "source": []
  },
  {
   "cell_type": "markdown",
   "metadata": {
    "ExecuteTime": {
     "end_time": "2020-01-30T08:49:33.965268Z",
     "start_time": "2020-01-30T08:49:33.955633Z"
    }
   },
   "source": [
    "**Task:** Compute the eigenvalues of matrix 'A' with numpy."
   ]
  },
  {
   "cell_type": "code",
   "execution_count": 35,
   "metadata": {},
   "outputs": [],
   "source": [
    "from numpy import linalg as LA"
   ]
  },
  {
   "cell_type": "code",
   "execution_count": 150,
   "metadata": {},
   "outputs": [
    {
     "data": {
      "text/plain": [
       "array([-0.37228132,  5.37228132])"
      ]
     },
     "execution_count": 150,
     "metadata": {},
     "output_type": "execute_result"
    }
   ],
   "source": [
    "LA.eigvals(A)"
   ]
  },
  {
   "cell_type": "markdown",
   "metadata": {
    "ExecuteTime": {
     "end_time": "2020-01-30T08:49:34.161648Z",
     "start_time": "2020-01-30T08:49:34.150747Z"
    }
   },
   "source": [
    "**Task:** Print the eigenvalues."
   ]
  },
  {
   "cell_type": "code",
   "execution_count": 151,
   "metadata": {},
   "outputs": [
    {
     "data": {
      "text/plain": [
       "array([-0.85410197,  5.85410197])"
      ]
     },
     "execution_count": 151,
     "metadata": {},
     "output_type": "execute_result"
    }
   ],
   "source": [
    "LA.eigvalsh(A)"
   ]
  },
  {
   "cell_type": "code",
   "execution_count": 152,
   "metadata": {},
   "outputs": [
    {
     "data": {
      "text/plain": [
       "(array([-0.85410197,  5.85410197]),\n",
       " array([[-0.85065081,  0.52573111],\n",
       "        [ 0.52573111,  0.85065081]]))"
      ]
     },
     "execution_count": 152,
     "metadata": {},
     "output_type": "execute_result"
    }
   ],
   "source": [
    "LA.eigh(A)"
   ]
  },
  {
   "cell_type": "code",
   "execution_count": null,
   "metadata": {},
   "outputs": [],
   "source": []
  },
  {
   "cell_type": "code",
   "execution_count": null,
   "metadata": {},
   "outputs": [],
   "source": []
  },
  {
   "cell_type": "markdown",
   "metadata": {
    "ExecuteTime": {
     "end_time": "2020-01-30T08:49:34.442956Z",
     "start_time": "2020-01-30T08:49:34.426399Z"
    }
   },
   "source": [
    "**Task:** Print  the eigenvectors."
   ]
  },
  {
   "cell_type": "code",
   "execution_count": 39,
   "metadata": {},
   "outputs": [
    {
     "data": {
      "text/plain": [
       "(array([-0.37228132,  5.37228132]),\n",
       " array([[-0.82456484, -0.41597356],\n",
       "        [ 0.56576746, -0.90937671]]))"
      ]
     },
     "execution_count": 39,
     "metadata": {},
     "output_type": "execute_result"
    }
   ],
   "source": [
    "LA.eig(A)"
   ]
  },
  {
   "cell_type": "code",
   "execution_count": null,
   "metadata": {},
   "outputs": [],
   "source": []
  },
  {
   "cell_type": "markdown",
   "metadata": {},
   "source": [
    "**Task:** Define a function `'eig_2x2'` which computes the eigenvectors and the eigenvalues of 2x2 matrix.\n",
    "\n",
    "Do not use the np.linalg.eig function. Use your 'shape_2x2' and your 'determinant_2x2' functions. Be carefull, eigenvalues and eigenvectors could contain complex numbers.\n",
    "\n",
    "How to compute eigenvalues of a 2x2 matrix?:\n",
    "\n",
    "- https://yutsumura.com/express-the-eigenvalues-of-a-2-by-2-matrix-in-terms-of-the-trace-and-determinant/"
   ]
  },
  {
   "cell_type": "code",
   "execution_count": null,
   "metadata": {
    "ExecuteTime": {
     "end_time": "2020-01-30T08:49:34.728724Z",
     "start_time": "2020-01-30T08:49:34.717473Z"
    }
   },
   "outputs": [],
   "source": [
    "\"\"\"\n",
    "Define a function 'eig_2x2' which computes the eigenvectors and the eigenvalues of 2x2 matrix\n",
    "\n",
    "PARAMS:\n",
    "    matrix (numpy.ndarray) - matrix to perform decomposition\n",
    "RETURN:\n",
    "    eigenvalues, eigenvectors (tuple) - eigenvalues, eigenvectors as numpy.ndarrays\n",
    "\n",
    "\"\"\""
   ]
  },
  {
   "cell_type": "code",
   "execution_count": 99,
   "metadata": {},
   "outputs": [],
   "source": [
    "import cmath"
   ]
  },
  {
   "cell_type": "code",
   "execution_count": 147,
   "metadata": {},
   "outputs": [],
   "source": [
    "def eig_2x2(matrix):\n",
    "    if shape_2x2(matrix) == True:\n",
    "        tr = matrix[0][0] + matrix[1][1]\n",
    "        p1 = (tr + cmath.sqrt(tr**2 - 4*determinant_2x2(matrix)))/2\n",
    "        p2 = (tr - cmath.sqrt(tr**2 - 4*determinant_2x2(matrix)))/2\n",
    "        return p1,p2, matrix.dot(p1), p2*matrix\n",
    "    else:\n",
    "        return \"matrix isnt 2x2\""
   ]
  },
  {
   "cell_type": "code",
   "execution_count": 1,
   "metadata": {},
   "outputs": [],
   "source": [
    "def eig_2x2(matrix):\n",
    "    if not shape_2x2(matrix):\n",
    "        return None\n",
    "    # sum of matrix diagonal\n",
    "    matrix_trace = matrix.trace()\n",
    "    # 0j because np.sqrt:  np.sqrt(-1) => nan, np.sqrt(-1 + 0j) => 1j\n",
    "    inside_sqrt = matrix_trace**2 - 4*determinant_2x2(matrix) + 0j\n",
    "    eigenvalues = [((matrix_trace - np.sqrt(inside_sqrt))/2),\n",
    "                   ((matrix_trace + np.sqrt(inside_sqrt))/2)]\n",
    "    # only real part of number if imaginary part is equal to zero\n",
    "    eigenvalues = np.sort(np.array([v.real if v.imag == 0 else v for v in eigenvalues]))\n",
    "    eigenvectors = []\n",
    "    for eigv in eigenvalues:\n",
    "        matrix_minus_eig = matrix - eigv*np.eye(matrix.shape[0])\n",
    "        # matrix[0,0]*x + matrix[0,1]*y = 0 \n",
    "        # possible solution => x= -matrix[0,1], y= matrix[0,0]\n",
    "        # possible solution => x= matrix[0,1], y= -matrix[0,0]\n",
    "        eigenvector = np.array([-matrix_minus_eig[0,1], matrix_minus_eig[0,0]])\n",
    "        # vector with lenght of 1 \n",
    "        eigenvector_norm = eigenvector/np.linalg.norm(eigenvector)\n",
    "        eigenvectors.append(eigenvector_norm)\n",
    "    # vectors as columns\n",
    "    eigenvectors = np.array(eigenvectors).T\n",
    "    return eigenvalues, eigenvectors"
   ]
  },
  {
   "cell_type": "markdown",
   "metadata": {
    "ExecuteTime": {
     "end_time": "2020-01-30T08:49:35.033600Z",
     "start_time": "2020-01-30T08:49:35.026479Z"
    }
   },
   "source": [
    "**Task:** Call the function `'eig_2x2'` on matrix 'A'."
   ]
  },
  {
   "cell_type": "code",
   "execution_count": 149,
   "metadata": {},
   "outputs": [
    {
     "data": {
      "text/plain": [
       "((5.372281323269014+0j),\n",
       " (-0.3722813232690143+0j),\n",
       " array([[ 5.37228132+0.j, 10.74456265+0.j],\n",
       "        [16.11684397+0.j, 21.48912529+0.j]]),\n",
       " array([[-0.37228132+0.j, -0.74456265+0.j],\n",
       "        [-1.11684397+0.j, -1.48912529+0.j]]))"
      ]
     },
     "execution_count": 149,
     "metadata": {},
     "output_type": "execute_result"
    }
   ],
   "source": [
    "eig_2x2(A)"
   ]
  },
  {
   "cell_type": "code",
   "execution_count": null,
   "metadata": {},
   "outputs": [],
   "source": []
  },
  {
   "cell_type": "markdown",
   "metadata": {
    "ExecuteTime": {
     "end_time": "2020-01-30T08:49:35.359324Z",
     "start_time": "2020-01-30T08:49:35.344962Z"
    }
   },
   "source": [
    "**Task:** Compare your results with the numpy function (to compare use the [**np.allclose**](https://numpy.org/doc/stable/reference/generated/numpy.allclose.html) function)."
   ]
  },
  {
   "cell_type": "code",
   "execution_count": 118,
   "metadata": {},
   "outputs": [
    {
     "data": {
      "text/plain": [
       "False"
      ]
     },
     "execution_count": 118,
     "metadata": {},
     "output_type": "execute_result"
    }
   ],
   "source": [
    "np.allclose([5.372281323269014+0j, -0.3722813232690143+0j], \n",
    "            [-0.85410197,  5.85410197])"
   ]
  },
  {
   "cell_type": "code",
   "execution_count": null,
   "metadata": {},
   "outputs": [],
   "source": []
  },
  {
   "cell_type": "markdown",
   "metadata": {
    "ExecuteTime": {
     "end_time": "2020-01-30T08:49:35.767409Z",
     "start_time": "2020-01-30T08:49:35.762382Z"
    }
   },
   "source": [
    "**Task:** Define matrix B = np.array([[0,1],[-1,0]]) "
   ]
  },
  {
   "cell_type": "code",
   "execution_count": 102,
   "metadata": {},
   "outputs": [
    {
     "data": {
      "text/plain": [
       "array([[ 0,  1],\n",
       "       [-1,  0]])"
      ]
     },
     "execution_count": 102,
     "metadata": {},
     "output_type": "execute_result"
    }
   ],
   "source": [
    "B = np.array([[0,1],[-1,0]]).reshape(2,2)\n",
    "B"
   ]
  },
  {
   "cell_type": "markdown",
   "metadata": {
    "ExecuteTime": {
     "end_time": "2020-01-30T08:49:36.107561Z",
     "start_time": "2020-01-30T08:49:36.101971Z"
    }
   },
   "source": [
    "**Task:** Compute the eigenvalues and the eigevectors of matrix 'B' with numpy and with your `'eig_2x2'` function."
   ]
  },
  {
   "cell_type": "code",
   "execution_count": 108,
   "metadata": {},
   "outputs": [
    {
     "data": {
      "text/plain": [
       "(1j,\n",
       " -1j,\n",
       " array([[ 0.+0.j,  0.+1.j],\n",
       "        [-0.-1.j,  0.+0.j]]),\n",
       " array([[0.+0.j, 0.-1.j],\n",
       "        [0.+1.j, 0.+0.j]]))"
      ]
     },
     "execution_count": 108,
     "metadata": {},
     "output_type": "execute_result"
    }
   ],
   "source": [
    "eig_2x2(B)"
   ]
  },
  {
   "cell_type": "markdown",
   "metadata": {
    "ExecuteTime": {
     "end_time": "2020-01-30T08:49:36.483358Z",
     "start_time": "2020-01-30T08:49:36.474496Z"
    }
   },
   "source": [
    "**Task:** Compare the results with the numpy function (to compare use the [**np.allclose**](https://numpy.org/doc/stable/reference/generated/numpy.allclose.html) function)."
   ]
  },
  {
   "cell_type": "code",
   "execution_count": 139,
   "metadata": {},
   "outputs": [
    {
     "data": {
      "text/plain": [
       "True"
      ]
     },
     "execution_count": 139,
     "metadata": {},
     "output_type": "execute_result"
    }
   ],
   "source": [
    "np.allclose(LA.eigvals(B),\n",
    "            [1j, -1j])"
   ]
  },
  {
   "cell_type": "code",
   "execution_count": 140,
   "metadata": {},
   "outputs": [
    {
     "data": {
      "text/plain": [
       "array([0.+1.j, 0.-1.j])"
      ]
     },
     "execution_count": 140,
     "metadata": {},
     "output_type": "execute_result"
    }
   ],
   "source": [
    "LA.eigvals(B)"
   ]
  },
  {
   "cell_type": "code",
   "execution_count": 146,
   "metadata": {},
   "outputs": [
    {
     "data": {
      "text/plain": [
       "(array([0.+1.j, 0.-1.j]),\n",
       " array([[0.70710678+0.j        , 0.70710678-0.j        ],\n",
       "        [0.        +0.70710678j, 0.        -0.70710678j]]))"
      ]
     },
     "execution_count": 146,
     "metadata": {},
     "output_type": "execute_result"
    }
   ],
   "source": [
    "LA.eig(B)"
   ]
  },
  {
   "cell_type": "markdown",
   "metadata": {
    "ExecuteTime": {
     "end_time": "2020-01-30T08:49:36.913277Z",
     "start_time": "2020-01-30T08:49:36.893341Z"
    }
   },
   "source": [
    "**Task:** Print the eigenvalues and the eigenvectors. Why are the solutions different?"
   ]
  },
  {
   "cell_type": "code",
   "execution_count": null,
   "metadata": {},
   "outputs": [],
   "source": []
  },
  {
   "cell_type": "code",
   "execution_count": null,
   "metadata": {},
   "outputs": [],
   "source": []
  }
 ],
 "metadata": {
  "kernelspec": {
   "display_name": "Python 3",
   "language": "python",
   "name": "python3"
  },
  "language_info": {
   "codemirror_mode": {
    "name": "ipython",
    "version": 3
   },
   "file_extension": ".py",
   "mimetype": "text/x-python",
   "name": "python",
   "nbconvert_exporter": "python",
   "pygments_lexer": "ipython3",
   "version": "3.8.8"
  },
  "toc": {
   "base_numbering": 1,
   "nav_menu": {},
   "number_sections": true,
   "sideBar": true,
   "skip_h1_title": false,
   "title_cell": "Table of Contents",
   "title_sidebar": "Contents",
   "toc_cell": false,
   "toc_position": {},
   "toc_section_display": true,
   "toc_window_display": false
  },
  "varInspector": {
   "cols": {
    "lenName": 16,
    "lenType": 16,
    "lenVar": 40
   },
   "kernels_config": {
    "python": {
     "delete_cmd_postfix": "",
     "delete_cmd_prefix": "del ",
     "library": "var_list.py",
     "varRefreshCmd": "print(var_dic_list())"
    },
    "r": {
     "delete_cmd_postfix": ") ",
     "delete_cmd_prefix": "rm(",
     "library": "var_list.r",
     "varRefreshCmd": "cat(var_dic_list()) "
    }
   },
   "types_to_exclude": [
    "module",
    "function",
    "builtin_function_or_method",
    "instance",
    "_Feature"
   ],
   "window_display": false
  }
 },
 "nbformat": 4,
 "nbformat_minor": 4
}
